{
 "cells": [
  {
   "cell_type": "markdown",
   "id": "typical-kansas",
   "metadata": {},
   "source": [
    "# Investigation into the effect of Viscosity on gravity driven fluid oscillation in a straw"
   ]
  },
  {
   "cell_type": "code",
   "execution_count": 1,
   "id": "dynamic-samuel",
   "metadata": {},
   "outputs": [],
   "source": [
    "#importing all using libraries\n",
    "import numpy as np\n",
    "import scipy as sp\n",
    "from ipywidgets import interact\n",
    "from scipy.integrate import odeint\n",
    "import matplotlib.pyplot as plt\n",
    "# This makes the plots appear inside the notebook\n",
    "%matplotlib inline"
   ]
  },
  {
   "cell_type": "markdown",
   "id": "communist-silicon",
   "metadata": {},
   "source": [
    "By exporting all of the tracker data into a format of .dat, we are able to utilize and directly import the data into jupyter notebook."
   ]
  },
  {
   "cell_type": "code",
   "execution_count": 2,
   "id": "accurate-pathology",
   "metadata": {},
   "outputs": [],
   "source": [
    "#importing data\n",
    "file_dir = './'\n",
    "filename= '7924.dat'\n",
    "\n",
    "data = np.genfromtxt(filename,delimiter='\\t',skip_header=2 )\n",
    "time_data = data[:,0]\n",
    "x_data = data[:,1]\n",
    "z_data = data[:,2]\n",
    "\n",
    "timeshift = 0.267 # the time shifting varaible, shifted so that t = 0, is when the stopper is removed.\n",
    "\n",
    "time_data_clean = time_data[np.isfinite(z_data)]-timeshift # cleaned data includes the timeshift, and removes any instances of infinite.\n",
    "\n",
    "z_data_clean = z_data[np.isfinite(z_data)]\n"
   ]
  },
  {
   "cell_type": "markdown",
   "id": "urban-result",
   "metadata": {},
   "source": [
    "By plotting the data now, we are able to adjust the timeshift variable, while also providing a small window into how the data looks like."
   ]
  },
  {
   "cell_type": "code",
   "execution_count": 3,
   "id": "given-presence",
   "metadata": {},
   "outputs": [
    {
     "data": {
      "image/png": "[encoded data removed]",
      "text/plain": [
       "<Figure size 432x288 with 1 Axes>"
      ]
     },
     "metadata": {
      "needs_background": "light"
     },
     "output_type": "display_data"
    }
   ],
   "source": [
    "# plotting the raw data\n",
    "plt.plot(time_data_clean[8:],z_data_clean[8:],'.')\n",
    "plt.xlabel('time (sec)',fontsize=15)\n",
    "plt.ylabel('fluid level (cm)',fontsize=15)\n",
    "plt.show()"
   ]
  },
  {
   "cell_type": "markdown",
   "id": "deluxe-mobile",
   "metadata": {},
   "source": [
    "Now we would need to fill in some constants in each trial to calculate the initial condition of the fluid in the straw."
   ]
  },
  {
   "cell_type": "code",
   "execution_count": 5,
   "id": "fifty-agenda",
   "metadata": {},
   "outputs": [
    {
     "name": "stdout",
     "output_type": "stream",
     "text": [
      "fluid level will be 0.19 cm above the bottom of the straw\n"
     ]
    }
   ],
   "source": [
    "# calculate the initial starting level of the fluid in the submersed straw:\n",
    "density = 1 # g/cm^3\n",
    "atmPressure = 1030 # g/cm^2\n",
    "h = 10 # cm\n",
    "H = 20  # length of straw, cm\n",
    "d = (1 - atmPressure/(density*h + atmPressure))*H\n",
    "print('fluid level will be %2.2f cm above the bottom of the straw'%(d))"
   ]
  },
  {
   "cell_type": "code",
   "execution_count": null,
   "id": "standing-reconstruction",
   "metadata": {},
   "outputs": [],
   "source": []
  }
 ],
 "metadata": {
  "kernelspec": {
   "display_name": "Python 3",
   "language": "python",
   "name": "python3"
  },
  "language_info": {
   "codemirror_mode": {
    "name": "ipython",
    "version": 3
   },
   "file_extension": ".py",
   "mimetype": "text/x-python",
   "name": "python",
   "nbconvert_exporter": "python",
   "pygments_lexer": "ipython3",
   "version": "3.8.5"
  }
 },
 "nbformat": 4,
 "nbformat_minor": 5
}
