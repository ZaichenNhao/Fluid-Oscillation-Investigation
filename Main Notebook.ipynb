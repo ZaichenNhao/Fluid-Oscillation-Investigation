{
 "cells": [
  {
   "cell_type": "markdown",
   "id": "viral-spencer",
   "metadata": {},
   "source": [
    "# Investigation into the effect of Viscosity on gravity driven fluid oscillation in a straw"
   ]
  },
  {
   "cell_type": "code",
   "execution_count": 14,
   "id": "fewer-christopher",
   "metadata": {},
   "outputs": [],
   "source": [
    "#importing all using libraries\n",
    "import numpy as np\n",
    "import scipy as sp\n",
    "from ipywidgets import interact\n",
    "from scipy.integrate import odeint\n",
    "import matplotlib.pyplot as plt\n",
    "# This makes the plots appear inside the notebook\n",
    "%matplotlib widget\n",
    "%matplotlib inline"
   ]
  },
  {
   "cell_type": "markdown",
   "id": "herbal-collection",
   "metadata": {},
   "source": [
    "By exporting all of the tracker data into a format of .dat, we are able to utilize and directly import the data into jupyter notebook."
   ]
  },
  {
   "cell_type": "code",
   "execution_count": 15,
   "id": "binary-armor",
   "metadata": {},
   "outputs": [],
   "source": [
    "#importing data\n",
    "file_dir = './data/'\n",
    "filename= 'WaterNormalBlackBallTrial3Data2.dat'\n",
    "\n",
    "data = np.genfromtxt(file_dir+filename,delimiter='\\t',skip_header=2 )\n",
    "time_data = data[:,0]\n",
    "x_data = data[:,1]\n",
    "z_data = data[:,2]\n",
    "\n",
    "#timeshift = 0.267 # the time shifting varaible, shifted so that t = 0, is when the stopper is removed.\n",
    "timeshift= 0.267\n",
    "\n",
    "time_data_clean = time_data[np.isfinite(z_data)]-timeshift # cleaned data includes the timeshift, and removes any instances of infinite.\n",
    "\n",
    "z_data_clean = z_data[np.isfinite(z_data)]\n"
   ]
  },
  {
   "cell_type": "markdown",
   "id": "convertible-stable",
   "metadata": {},
   "source": [
    "By plotting the data now, we are able to adjust the timeshift variable, while also providing a small window into how the data looks like."
   ]
  },
  {
   "cell_type": "code",
   "execution_count": 16,
   "id": "classical-phone",
   "metadata": {},
   "outputs": [
    {
     "data": {
      "image/png": "[encoded data removed]",
      "text/plain": [
       "<Figure size 432x288 with 1 Axes>"
      ]
     },
     "metadata": {
      "needs_background": "light"
     },
     "output_type": "display_data"
    }
   ],
   "source": [
    "# plotting the raw data\n",
    "plt.plot(time_data_clean[8:],z_data_clean[8:],'.')\n",
    "plt.xlabel('time (sec)',fontsize=15)\n",
    "plt.ylabel('fluid level (cm)',fontsize=15)\n",
    "plt.show()"
   ]
  },
  {
   "cell_type": "markdown",
   "id": "joined-pottery",
   "metadata": {},
   "source": [
    "Now we would need to fill in some constants in each trial to calculate the initial condition of the fluid in the straw."
   ]
  },
  {
   "cell_type": "code",
   "execution_count": 17,
   "id": "diverse-origin",
   "metadata": {},
   "outputs": [
    {
     "name": "stdout",
     "output_type": "stream",
     "text": [
      "fluid level will be 2.61 cm above the bottom of the straw\n"
     ]
    }
   ],
   "source": [
    "# calculate the initial starting level of the fluid in the submersed straw:\n",
    "density = 0.997 # g/cm^3\n",
    "atmPressure = 1000 # g/cm^2\n",
    "h = 30 # length submerged\n",
    "H = 90  # length of straw, cm\n",
    "d = (1 - atmPressure/(density*h + atmPressure))*H\n",
    "print('fluid level will be %2.2f cm above the bottom of the straw'%(d))"
   ]
  },
  {
   "cell_type": "code",
   "execution_count": 20,
   "id": "convertible-circulation",
   "metadata": {},
   "outputs": [
    {
     "data": {
      "application/vnd.jupyter.widget-view+json": {
       "model_id": "25b4aec832644f95a5519519012f571f",
       "version_major": 2,
       "version_minor": 0
      },
      "text/plain": [
       "interactive(children=(FloatSlider(value=10.0, description='h', max=20.0), FloatSlider(value=980.0, description…"
      ]
     },
     "metadata": {},
     "output_type": "display_data"
    }
   ],
   "source": [
    "# Solving the Newton's law model and also equations 17a and 17b from Lorenceau paper:\n",
    "#Where Z[0] = y axis displacement with adjusted height through H\n",
    "#Where Z[1] is the first derivative of Z?\n",
    "\n",
    "# Newton's law model\n",
    "def DZ_dt_Newton(Z, t,args):\n",
    "    h = args[0]\n",
    "    g = args[1]\n",
    "    b = args[2]\n",
    "    #print(Z[2])\n",
    "    return [Z[1], -Z[1]**2/Z[0] - g +g*h/Z[0] -b*Z[1]/Z[0]]\n",
    "\n",
    "# Lorenceau model:\n",
    "def DZ_dt_Lor(Z, t,args):\n",
    "    h = args[0]\n",
    "    g = args[1]\n",
    "    Omeg = args[3]\n",
    "    if Z[1]>0:\n",
    "        return [Z[1], 1/Z[0] - 1 -Omeg*Z[1] - (Z[1])**2/Z[0]]\n",
    "    else:\n",
    "        return [Z[1], 1/Z[0] - 1 -Omeg*Z[1] ]\n",
    "\n",
    "\n",
    "def plot_osc(h=10.0, g=9.8e2,b = 23,factor=2.60):\n",
    "\n",
    "    # prepare data for plotting:\n",
    "    z_data1 = z_data_clean[8:]+h # change the overall level so that bottom of straw is z=0\n",
    "    time_axis1 = time_data_clean[8:]  # only include data for positive times (after cap is released)\n",
    "    \n",
    "    # prepare parameters for solving models:\n",
    "    Omeg = 0.062*factor\n",
    "    params = (h,g,b,Omeg)    \n",
    "    \n",
    "    # solve Newton model:\n",
    "    t_soln = time_axis1\n",
    "    Z_soln_Newton = sp.integrate.odeint(DZ_dt_Newton, [0.02, 0], t_soln, args=(params,))   \n",
    "\n",
    "    z_soln_Newton = Z_soln_Newton[:,0]      # fluid height\n",
    "#     ydot_soln_Newton = Y_soln_Newton[:,1]   # fluid velocity\n",
    "\n",
    "    '''# solve Lorenceau model, equation 17a and 17b....\n",
    "    t_solnLor = np.arange(0, 30, 0.01)\n",
    "    Z_soln_Lor = sp.integrate.odeint(DZ_dt_Lor, [0.02, 0.00], t_solnLor, args=(params,))   \n",
    "    \n",
    "    z_soln_Lor = Z_soln_Lor[:,0]*h       # fluid height\n",
    "\n",
    "    Omeg = 0.062*factor\n",
    "    params = (h,g,b,Omeg)'''\n",
    "\n",
    "    plt.clf()\n",
    "    plt.plot(time_axis1,z_data1,'b.',label='Data') \n",
    "    plt.plot(t_soln,z_soln_Newton,'r',label='Newtonian model')\n",
    "\n",
    "    plt.xlabel('time (sec)',fontsize=15)\n",
    "    plt.ylabel('fluid level (cm)',fontsize=15)\n",
    "    plt.rc('xtick', labelsize=10)\n",
    "    plt.rc('ytick', labelsize=10)\n",
    "\n",
    "    #plt.plot(t_solnLor*(h*1e-2/9.8)**0.5,z_soln_Lor,'g--',label='Lorenceau model')\n",
    "    plt.title('Fluid level oscillations with Newtonian Model\\nOmega=%2.2e (no unit), h=%2.2f, b=%2.2e\\nfilename = %s'%(Omeg,h,b,filename),fontsize=15)\n",
    "    plt.legend(frameon=False,loc=1)\n",
    "    plt.xlim([-0.2,3])\n",
    "    plt.grid()\n",
    "#     plt.savefig('fluid oscillation with fits.png',dpi=400)\n",
    "    plt.show()\n",
    "   \n",
    "\n",
    "interact(plot_osc, h=(0.0, 20.0),g=(5.0e2, 15.0e2),b=(0.0, 50.0));\n"
   ]
  },
  {
   "cell_type": "code",
   "execution_count": null,
   "id": "brave-somewhere",
   "metadata": {},
   "outputs": [],
   "source": []
  }
 ],
 "metadata": {
  "kernelspec": {
   "display_name": "Python 3",
   "language": "python",
   "name": "python3"
  },
  "language_info": {
   "codemirror_mode": {
    "name": "ipython",
    "version": 3
   },
   "file_extension": ".py",
   "mimetype": "text/x-python",
   "name": "python",
   "nbconvert_exporter": "python",
   "pygments_lexer": "ipython3",
   "version": "3.8.5"
  }
 },
 "nbformat": 4,
 "nbformat_minor": 5
}
