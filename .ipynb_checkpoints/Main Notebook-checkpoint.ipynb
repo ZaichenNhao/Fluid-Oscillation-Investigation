{
 "cells": [
  {
   "cell_type": "markdown",
   "id": "color-bankruptcy",
   "metadata": {},
   "source": [
    "# Investigation into the effect of Viscosity on gravity driven fluid oscillation in a straw"
   ]
  },
  {
   "cell_type": "code",
   "execution_count": 1,
   "id": "environmental-emphasis",
   "metadata": {},
   "outputs": [],
   "source": [
    "#importing all using libraries\n",
    "import numpy as np\n",
    "import scipy as sp\n",
    "import math as math\n",
    "from ipywidgets import interact\n",
    "from scipy.integrate import odeint\n",
    "import matplotlib.pyplot as plt\n",
    "# This makes the plots appear inside the notebook\n",
    "%matplotlib widget\n",
    "%matplotlib inline\n"
   ]
  },
  {
   "cell_type": "markdown",
   "id": "residential-justice",
   "metadata": {},
   "source": [
    "By exporting all of the tracker data into a format of .dat, we are able to utilize and directly import the data into jupyter notebook."
   ]
  },
  {
   "cell_type": "code",
   "execution_count": 2,
   "id": "metric-effect",
   "metadata": {},
   "outputs": [],
   "source": [
    "#importing data\n",
    "file_dir = './data/'\n",
    "filename= '400mLblaackballTrial2.dat'\n",
    "\n",
    "data = np.genfromtxt(file_dir+filename,delimiter='\\t',skip_header=2 )\n",
    "time_data = data[:,0]\n",
    "x_data = data[:,1]\n",
    "z_data = data[:,2]\n",
    "\n",
    "timeshift= 0.267 # the time shifting varaible, shifted so that t = 0, is when the stopper is removed.\n",
    "\n",
    "time_data_clean = time_data[np.isfinite(z_data)]-timeshift # cleaned data includes the timeshift, and removes any instances of infinite.\n",
    "z_data_clean = z_data[np.isfinite(z_data)]"
   ]
  },
  {
   "cell_type": "markdown",
   "id": "burning-torture",
   "metadata": {},
   "source": [
    "By plotting the data now, we are able to adjust the timeshift variable, while also providing a small window into how the data looks like."
   ]
  },
  {
   "cell_type": "code",
   "execution_count": 3,
   "id": "motivated-burlington",
   "metadata": {},
   "outputs": [
    {
     "data": {
      "image/png": "[encoded data removed]",
      "text/plain": [
       "<Figure size 432x288 with 1 Axes>"
      ]
     },
     "metadata": {
      "needs_background": "light"
     },
     "output_type": "display_data"
    }
   ],
   "source": [
    "# plotting the raw data\n",
    "plt.plot(time_data_clean[8:],z_data_clean[8:],'.')\n",
    "plt.xlabel('time (sec)',fontsize=15)\n",
    "plt.ylabel('fluid level (cm)',fontsize=15)\n",
    "plt.show()"
   ]
  },
  {
   "cell_type": "markdown",
   "id": "local-nicholas",
   "metadata": {},
   "source": [
    "Now we would need to fill in some constants in each trial to calculate the initial condition of the fluid in the straw."
   ]
  },
  {
   "cell_type": "code",
   "execution_count": 4,
   "id": "promising-bandwidth",
   "metadata": {},
   "outputs": [
    {
     "name": "stdout",
     "output_type": "stream",
     "text": [
      "fluid level will be 26.86 cm above the bottom of the straw\n"
     ]
    }
   ],
   "source": [
    "# calculate the initial starting level of the fluid in the submersed straw:\n",
    "density = 1068.0 # g/cm^3\n",
    "atmPressure = 1000 # g/cm^2\n",
    "h = 8 # length submerged\n",
    "H = 30  # length of straw, cm\n",
    "d = (1 - atmPressure/(density*h + atmPressure))*H\n",
    "print('fluid level will be %2.2f cm above the bottom of the straw'%(d))"
   ]
  },
  {
   "cell_type": "markdown",
   "id": "rubber-mailing",
   "metadata": {},
   "source": [
    "**Viscosity would have an impact on the pressure force through the Poiseuille equation**\n",
    "\n",
    "$$\n",
    "\\begin{aligned}\n",
    "\\Delta P = \\frac{\\mu LQ}{\\pi R^4}\n",
    "\\end{aligned}\n",
    "$$\n",
    "\n",
    "Where $\\Delta$P could be defined as $P_{bottom}$ - $P_{atm}$, where $P_{bottom}$ is the pressure at the bottom of the straw\n",
    "\n",
    "therefore, the pressure force at the bottom of the straw could be defined as\n",
    "\n",
    "$$\n",
    "\\begin{aligned}\n",
    "P_{bottom} = \\frac{\\pi R^4 P_{atm}-8 \\mu LA Z^{\\prime}}{\\pi R^4}\n",
    "\\end{aligned}\n",
    "$$\n",
    "\n",
    "**Solving the second order ordinary differencial equation**\n",
    "\n",
    "$$\n",
    "\\begin{aligned}\n",
    "\\frac{dp}{dt} = -mg + \\frac{\\pi R^4 P_{atm}-8 \\mu LA Z^{\\prime}}{\\pi R^4} - \\frac{bZ^{\\prime}}{Z}- \\frac{(Z^{\\prime})^2}{Z}\n",
    "\\end{aligned}\n",
    "$$\n",
    "\n",
    "Now solving for $Z^{\\prime\\prime}$\n",
    "\n",
    "$$\n",
    "\\begin{aligned}\n",
    "Z^{\\prime\\prime}= -\\frac{1}{Z}(\\frac{P_{atm}-\\frac{8\\mu LA Z^{\\prime}}{\\pi R^4}}{\\rho Z}-bZ^{\\prime}-(Z^{\\prime})^2)-g\n",
    "\\end{aligned}\n",
    "$$\n"
   ]
  },
  {
   "cell_type": "code",
   "execution_count": 6,
   "id": "bored-citizenship",
   "metadata": {},
   "outputs": [
    {
     "data": {
      "application/vnd.jupyter.widget-view+json": {
       "model_id": "256a6095f4d94072bf9d8baea452c84c",
       "version_major": 2,
       "version_minor": 0
      },
      "text/plain": [
       "interactive(children=(FloatSlider(value=10.0, description='h', max=20.0), FloatSlider(value=980.0, description…"
      ]
     },
     "metadata": {},
     "output_type": "display_data"
    }
   ],
   "source": [
    "# Solving the Newton's law model and also equations 17a and 17b from Lorenceau paper:\n",
    "#Where Z[0] = y axis displacement with adjusted height through H\n",
    "#Where Z[1] is the first derivative of Z?\n",
    "\n",
    "# Newton's law model\n",
    "def DZ_dt_Newton(Z, t,args):\n",
    "    h = args[0]\n",
    "    g = args[1]\n",
    "    b = args[2]\n",
    "    \n",
    "    #constants\n",
    "    rho = 1068.0 #kg/m^3\n",
    "    A = 0.075438 #cross sectional area. PiR^2\n",
    "    L = 0.2 #length of tube(m)\n",
    "    #mu = 0.024225 #dynamic viscosity (poise)\n",
    "    mu = 0.05\n",
    "    R = 0.0155 #radius (m)\n",
    "    pATM = 101325 #atm pa\n",
    "    \n",
    "    #k = ((math.pi*(R**4)*pATM)+(8*math.pi*mu*L*A*Z[1]))/(math.pi*R**4*rho*Z[0])* #Pressure Force\n",
    "    #k = (pATM-((8*mu*L*A*Z[1])/math.pi*R**4))/(rho*Z[0]) #pressure force\n",
    "    k = ((rho*g*h)-(pATM-((8*mu*L*A*Z[1])/(math.pi*R**4))))/(rho*Z[0]) #new pressure force model\n",
    "    #print(k)\n",
    "    \n",
    "    by = (-1*b*Z[1])/Z[0]\n",
    "    \n",
    "    y2 = (-1*Z[1]**2/Z[0])\n",
    "    \n",
    "    inside = k-by-y2\n",
    "    \n",
    "    #print(outside)\n",
    "    \n",
    "    final = inside-g #final return\n",
    "    \n",
    "    '''print(\"my model :\")\n",
    "    print(final)\n",
    "    \n",
    "    print(\"Working Model :\")\n",
    "    print((-Z[1]**2/Z[0] - g +g*h/Z[0] -b*Z[1]/Z[0]))'''\n",
    "    \n",
    "    '''print(\"Pressure force w/out viscosity:\")\n",
    "    print(g*h/Z[0])\n",
    "    print(\"Pressure force with viscosity:\")\n",
    "    print(k)'''\n",
    "    print(Z[0])\n",
    "    \n",
    "    try:\n",
    "        #print(f)\n",
    "        #return [Z[1], -Z[1]**2/Z[0] - g +g*h/Z[0] -b*Z[1]/Z[0]] #newtonian model without viscosity\n",
    "        #return [Z[1], ((k+b)*Z[1]-Z[1]**2/Z[0])-g]\n",
    "        return [Z[1], final] #newest test model\n",
    "    except:\n",
    "        print(\"something wrong\")\n",
    "    \n",
    "    #energy lost due to friction to the walls\n",
    "    #hL = f*(L/D)*(v^2/2g), where f for laminar flow = 64/(v*D*rho/dynamic viscosity)\n",
    "    #therefore, energy lost due to friction would be (64/v*D*rho/dynamic vis)*(L/D)*(v^2/2g)\n",
    "    #return [Z[1], -Z[1]**2/Z[0] - g +g*h/Z[0] -b*Z[1]/Z[0]] #newtonian model without viscosity\n",
    "\n",
    "    #- (f*(L/D)*Z[1]**2/2g)\n",
    "def plot_osc(h=10.0, g=9.8e2,b = 23):\n",
    "\n",
    "    # prepare data for plotting:\n",
    "    z_data1 = z_data_clean[8:]+h # change the overall level so that bottom of straw is z=0\n",
    "    time_axis1 = time_data_clean[8:]  # only include data for positive times (after cap is released)\n",
    "    \n",
    "    # prepare parameters for solving models:\n",
    "    params = (h,g,b)    \n",
    "    \n",
    "    # solve Newton model:\n",
    "    t_soln = time_axis1\n",
    "    Z_soln_Newton = sp.integrate.odeint(DZ_dt_Newton, [0.02, 0], t_soln, args=(params,))   \n",
    "\n",
    "    z_soln_Newton = Z_soln_Newton[:,0]      # fluid height\n",
    "#     ydot_soln_Newton = Y_soln_Newton[:,1]   # fluid velocity\n",
    "\n",
    "    plt.clf()\n",
    "    plt.plot(time_axis1,z_data1,'b.',label='Data') \n",
    "    plt.plot(t_soln,z_soln_Newton,'r',label='Newtonian model')\n",
    "\n",
    "    plt.xlabel('time (sec)',fontsize=15)\n",
    "    plt.ylabel('fluid level (cm)',fontsize=15)\n",
    "    plt.rc('xtick', labelsize=10)\n",
    "    plt.rc('ytick', labelsize=10)\n",
    "\n",
    "    #plt.plot(t_solnLor*(h*1e-2/9.8)**0.5,z_soln_Lor,'g--',label='Lorenceau model')\n",
    "    plt.title('Fluid level oscillations\\n, h=%2.2f, b=%2.2e\\nfilename = %s'%(h,b,filename),fontsize=15)\n",
    "    plt.legend(frameon=False,loc=1)\n",
    "    plt.xlim([-0.2,3])\n",
    "    plt.grid()\n",
    "#     plt.savefig('fluid oscillation with fits.png',dpi=400)\n",
    "    plt.show()\n",
    "   \n",
    "\n",
    "interact(plot_osc, h=(0.0, 20.0),g=(5.0e2, 15.0e2),b=(0.0, 50.0));\n"
   ]
  },
  {
   "cell_type": "code",
   "execution_count": null,
   "id": "cognitive-security",
   "metadata": {},
   "outputs": [],
   "source": []
  },
  {
   "cell_type": "code",
   "execution_count": null,
   "id": "buried-labor",
   "metadata": {},
   "outputs": [],
   "source": []
  }
 ],
 "metadata": {
  "kernelspec": {
   "display_name": "Python 3",
   "language": "python",
   "name": "python3"
  },
  "language_info": {
   "codemirror_mode": {
    "name": "ipython",
    "version": 3
   },
   "file_extension": ".py",
   "mimetype": "text/x-python",
   "name": "python",
   "nbconvert_exporter": "python",
   "pygments_lexer": "ipython3",
   "version": "3.8.5"
  }
 },
 "nbformat": 4,
 "nbformat_minor": 5
}
